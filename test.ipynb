{
 "cells": [
  {
   "cell_type": "code",
   "execution_count": 4,
   "metadata": {},
   "outputs": [],
   "source": [
    "import numpy as np\n",
    "from basic import hessian_free_optimization\n",
    "def quadratic_objective(x):\n",
    "    return x**2\n",
    "\n",
    "def quadratic_gradient(x):\n",
    "    return 2 * x\n",
    "\n",
    "# 2. Rosenbrock Function Test\n",
    "def rosenbrock_objective(x):\n",
    "    return (1 - x[0])**2 + 100 * (x[1] - x[0]**2)**2\n",
    "\n",
    "def rosenbrock_gradient(x):\n",
    "    df_dx0 = -2 * (1 - x[0]) - 400 * x[0] * (x[1] - x[0]**2)\n",
    "    df_dx1 = 200 * (x[1] - x[0]**2)\n",
    "    return np.array([df_dx0, df_dx1])\n",
    "\n",
    "# 3. Rastrigin Function Test\n",
    "def rastrigin_objective(x):\n",
    "    return 20 + x[0]**2 - 10 * np.cos(2 * np.pi * x[0]) + x[1]**2 - 10 * np.cos(2 * np.pi * x[1])\n",
    "\n",
    "def rastrigin_gradient(x):\n",
    "    df_dx0 = 2 * x[0] + 20 * np.pi * np.sin(2 * np.pi * x[0])\n",
    "    df_dx1 = 2 * x[1] + 20 * np.pi * np.sin(2 * np.pi * x[1])\n",
    "    return np.array([df_dx0, df_dx1])"
   ]
  },
  {
   "cell_type": "code",
   "execution_count": 5,
   "metadata": {},
   "outputs": [
    {
     "name": "stdout",
     "output_type": "stream",
     "text": [
      "Iteration 1\n",
      "  Current point: [9.99792182e-09]\n",
      "  Objective function value: [9.99584408e-17]\n",
      "  Gradient norm: 4.0\n",
      "  Step size: 1.0\n",
      "\n",
      "Iteration 2\n",
      "  Current point: [4.99871096e-13]\n",
      "  Objective function value: [2.49871113e-25]\n",
      "  Gradient norm: 1.9995843647535594e-08\n",
      "  Step size: 1.0\n",
      "\n",
      "Convergence reached!\n",
      "Final results:\n",
      "  Optimal point: [4.99871096e-13]\n",
      "  Objective function value: [2.49871113e-25]\n"
     ]
    }
   ],
   "source": [
    "x_min = hessian_free_optimization(quadratic_objective, quadratic_gradient, np.array([2.0]))"
   ]
  },
  {
   "cell_type": "code",
   "execution_count": 6,
   "metadata": {},
   "outputs": [
    {
     "data": {
      "text/plain": [
       "array([4.99871096e-13])"
      ]
     },
     "execution_count": 6,
     "metadata": {},
     "output_type": "execute_result"
    }
   ],
   "source": [
    "x_min"
   ]
  },
  {
   "cell_type": "code",
   "execution_count": null,
   "metadata": {},
   "outputs": [],
   "source": []
  }
 ],
 "metadata": {
  "kernelspec": {
   "display_name": "hfopt",
   "language": "python",
   "name": "python3"
  },
  "language_info": {
   "codemirror_mode": {
    "name": "ipython",
    "version": 3
   },
   "file_extension": ".py",
   "mimetype": "text/x-python",
   "name": "python",
   "nbconvert_exporter": "python",
   "pygments_lexer": "ipython3",
   "version": "3.10.14"
  }
 },
 "nbformat": 4,
 "nbformat_minor": 2
}
